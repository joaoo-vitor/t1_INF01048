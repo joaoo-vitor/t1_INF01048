{
  "cells": [
    {
      "cell_type": "markdown",
      "metadata": {
        "id": "fM1tzPvICydP"
      },
      "source": [
        "**Pressione SHIFT+ENTER para executar a célula**"
      ]
    },
    {
      "cell_type": "markdown",
      "metadata": {
        "id": "EtGzW6k4-epp"
      },
      "source": [
        "# Alegrete\n",
        "\n",
        "Este notebook fornece algumas visualizações para o trabalho de regressão linear. Para conseguir usar, implemente as funções no seu `alegrete.py` e tenha as bibliotecas `numpy` e `matplotlib` instaladas.\n",
        "\n",
        "O notebook usa um conjunto de dados sintetico. Adapte-o para carregar e usar os dados do `alegrete.csv`."
      ]
    },
    {
      "cell_type": "markdown",
      "metadata": {
        "id": "4YJqTGeQC59A"
      },
      "source": [
        "### Imports das bibliotecas de plot e da solucao implementada"
      ]
    },
    {
      "cell_type": "code",
      "execution_count": 1,
      "metadata": {
        "id": "k77xaJfA-epq"
      },
      "outputs": [],
      "source": [
        "%matplotlib inline\n",
        "from IPython.display import HTML\n",
        "import numpy as np\n",
        "import matplotlib.pyplot as plt\n",
        "import matplotlib.animation as animation\n",
        "import pandas as pd\n",
        "\n",
        "import alegrete"
      ]
    },
    {
      "cell_type": "markdown",
      "metadata": {
        "id": "0q-q8220C59B"
      },
      "source": [
        "### Visualizacao dos dados"
      ]
    },
    {
      "cell_type": "code",
      "execution_count": 2,
      "metadata": {
        "id": "E9HoBdK3-epu",
        "colab": {
          "base_uri": "https://localhost:8080/",
          "height": 256
        },
        "outputId": "9fa89086-ea54-4435-c40b-da71d11a2828"
      },
      "outputs": [
        {
          "output_type": "display_data",
          "data": {
            "text/plain": [
              "<Figure size 600x200 with 1 Axes>"
            ],
            "image/png": "[encoded data removed]"
          },
          "metadata": {}
        }
      ],
      "source": [
        "dataset = pd.read_csv('alegrete.csv', names=['Land area (ha)', 'Price (R$ 1.000)'])\n",
        "\n",
        "\n",
        "#Gráfico dos dados\n",
        "plt.figure(figsize=(6, 2))\n",
        "plt.scatter(dataset['Land area (ha)'], dataset['Price (R$ 1.000)'])\n",
        "plt.xlabel('Land area (ha)')\n",
        "plt.ylabel('Price (R$ 1.000)')\n",
        "plt.title('Dados Alegrete')\n",
        "plt.show()"
      ]
    },
    {
      "cell_type": "code",
      "source": [
        "alegrete.compute_mse(0, 1, dataset)\n",
        "dataset.iloc[:, 0]"
      ],
      "metadata": {
        "colab": {
          "base_uri": "https://localhost:8080/",
          "height": 458
        },
        "id": "QTNrVNebrN6e",
        "outputId": "04764890-0b2f-4b2e-9aa4-f92e44e51fbc"
      },
      "execution_count": 3,
      "outputs": [
        {
          "output_type": "execute_result",
          "data": {
            "text/plain": [
              "0      6.1101\n",
              "1      5.5277\n",
              "2      8.5186\n",
              "3      7.0032\n",
              "4      5.8598\n",
              "       ...   \n",
              "88     5.8707\n",
              "89     5.3054\n",
              "90     8.2934\n",
              "91    13.3940\n",
              "92     5.4369\n",
              "Name: Land area (ha), Length: 93, dtype: float64"
            ],
            "text/html": [
              "<div>\n",
              "<style scoped>\n",
              "    .dataframe tbody tr th:only-of-type {\n",
              "        vertical-align: middle;\n",
              "    }\n",
              "\n",
              "    .dataframe tbody tr th {\n",
              "        vertical-align: top;\n",
              "    }\n",
              "\n",
              "    .dataframe thead th {\n",
              "        text-align: right;\n",
              "    }\n",
              "</style>\n",
              "<table border=\"1\" class=\"dataframe\">\n",
              "  <thead>\n",
              "    <tr style=\"text-align: right;\">\n",
              "      <th></th>\n",
              "      <th>Land area (ha)</th>\n",
              "    </tr>\n",
              "  </thead>\n",
              "  <tbody>\n",
              "    <tr>\n",
              "      <th>0</th>\n",
              "      <td>6.1101</td>\n",
              "    </tr>\n",
              "    <tr>\n",
              "      <th>1</th>\n",
              "      <td>5.5277</td>\n",
              "    </tr>\n",
              "    <tr>\n",
              "      <th>2</th>\n",
              "      <td>8.5186</td>\n",
              "    </tr>\n",
              "    <tr>\n",
              "      <th>3</th>\n",
              "      <td>7.0032</td>\n",
              "    </tr>\n",
              "    <tr>\n",
              "      <th>4</th>\n",
              "      <td>5.8598</td>\n",
              "    </tr>\n",
              "    <tr>\n",
              "      <th>...</th>\n",
              "      <td>...</td>\n",
              "    </tr>\n",
              "    <tr>\n",
              "      <th>88</th>\n",
              "      <td>5.8707</td>\n",
              "    </tr>\n",
              "    <tr>\n",
              "      <th>89</th>\n",
              "      <td>5.3054</td>\n",
              "    </tr>\n",
              "    <tr>\n",
              "      <th>90</th>\n",
              "      <td>8.2934</td>\n",
              "    </tr>\n",
              "    <tr>\n",
              "      <th>91</th>\n",
              "      <td>13.3940</td>\n",
              "    </tr>\n",
              "    <tr>\n",
              "      <th>92</th>\n",
              "      <td>5.4369</td>\n",
              "    </tr>\n",
              "  </tbody>\n",
              "</table>\n",
              "<p>93 rows × 1 columns</p>\n",
              "</div><br><label><b>dtype:</b> float64</label>"
            ]
          },
          "metadata": {},
          "execution_count": 3
        }
      ]
    },
    {
      "cell_type": "markdown",
      "metadata": {
        "id": "wnmqepye-ep_"
      },
      "source": [
        "### Execucao da regressao linear e calculo do EQM por epoca/iteracao\n",
        "\n",
        "Considere o parâmetro b o coeficiente linear (theta_0, visto em aula) e w o coeficiente angular (theta_1, visto em aula)."
      ]
    },
    {
      "cell_type": "code",
      "execution_count": 13,
      "metadata": {
        "id": "x1VREIE7-eqA",
        "colab": {
          "base_uri": "https://localhost:8080/",
          "height": 466
        },
        "outputId": "da70bbf5-6104-43ee-f9da-f9d66c7c5670"
      },
      "outputs": [
        {
          "output_type": "stream",
          "name": "stdout",
          "text": [
            "EQM final: 8.529433040552066\n"
          ]
        },
        {
          "output_type": "display_data",
          "data": {
            "text/plain": [
              "<Figure size 640x480 with 1 Axes>"
            ],
            "image/png": "[encoded data removed]"
          },
          "metadata": {}
        }
      ],
      "source": [
        "b_history, w_history = alegrete.fit(\n",
        "    dataset, b=0, w=0,\n",
        "    alpha=0.01, num_iterations=1000\n",
        ")\n",
        "\n",
        "# valores finais de theta0 e theta1\n",
        "final_b, final_w = b_history[-1], w_history[-1]\n",
        "\n",
        "mse_list = [alegrete.compute_mse(b, w, dataset) for b, w in zip(b_history, w_history)]\n",
        "print(f\"EQM final: {mse_list[-1]}\")\n",
        "\n",
        "\n",
        "plt.plot(mse_list)\n",
        "plt.xlabel('Epoca/iteracao')\n",
        "plt.ylabel('EQM')\n",
        "plt.show()"
      ]
    },
    {
      "cell_type": "markdown",
      "metadata": {
        "id": "5v-y-qI3-ep7"
      },
      "source": [
        "### Plot da curva final"
      ]
    },
    {
      "cell_type": "code",
      "execution_count": 14,
      "metadata": {
        "id": "WV6KIdPq-ep7",
        "colab": {
          "base_uri": "https://localhost:8080/",
          "height": 231
        },
        "outputId": "08ea89ff-2e73-4561-da39-8378d82e9caa"
      },
      "outputs": [
        {
          "output_type": "stream",
          "name": "stdout",
          "text": [
            "Curva encontrada: 1.1509374496448106*x + -3.3523656365077175\n"
          ]
        },
        {
          "output_type": "display_data",
          "data": {
            "text/plain": [
              "<Figure size 400x200 with 1 Axes>"
            ],
            "image/png": "[encoded data removed]"
          },
          "metadata": {}
        }
      ],
      "source": [
        "#Imprimir parâmetros otimizados\n",
        "print (f'Curva encontrada: {final_w}*x + {final_b}')\n",
        "\n",
        "#plota os dados\n",
        "plt.figure(figsize=(4, 2))\n",
        "plt.scatter(dataset['Land area (ha)'], dataset['Price (R$ 1.000)'])\n",
        "\n",
        "# plota a curva de ajuste\n",
        "pred = final_w*dataset['Land area (ha)'] + final_b\n",
        "plt.plot(dataset['Land area (ha)'], pred, c='r')\n",
        "plt.show()"
      ]
    },
    {
      "cell_type": "markdown",
      "metadata": {
        "id": "XeXdBWc-Cic-"
      },
      "source": [
        "### Progresso da descida do gradiente com o número de iterações\n",
        "\n",
        "Execute a celula e use os controles abaixo do grafico para visualizar o progresso do seu ajuste\n",
        "\n",
        "Pode aparecer um grafico \"extra\" abaixo da animacao, apenas ignore."
      ]
    },
    {
      "cell_type": "code",
      "execution_count": null,
      "metadata": {
        "id": "pHGbi8nY-eqI",
        "colab": {
          "base_uri": "https://localhost:8080/"
        },
        "outputId": "613257c3-b2d8-42ef-e8ba-1b155388ed2d"
      },
      "outputs": [
        {
          "output_type": "stream",
          "name": "stderr",
          "text": [
            "/tmp/ipython-input-646327532.py:18: UserWarning: You passed in an explicit save_count=50 which is being ignored in favor of frames=1001.\n",
            "  ani = animation.FuncAnimation(fig, animate, frames=len(b_history), interval=20, save_count=50)\n"
          ]
        }
      ],
      "source": [
        "fig = plt.figure(figsize=(4, 2))\n",
        "ax = fig.add_subplot(111)\n",
        "\n",
        "# conjunto de dados\n",
        "ax.scatter(dataset.iloc[:,0], dataset.iloc[:,1])\n",
        "\n",
        "# linha com os valores iniciais dos parametros\n",
        "pred = w_history[0]*dataset.iloc[:,0] + b_history[0]\n",
        "line, = ax.plot(dataset.iloc[:,0], pred, '-',c='r')\n",
        "\n",
        "# funcao que atualiza a linha a cada passo\n",
        "def animate(i):\n",
        "    pred = w_history[i] * dataset.iloc[:,0] + b_history[i]\n",
        "    line.set_ydata(pred)\n",
        "    return line,\n",
        "\n",
        "# mude interval para trocar a velocidade da animacao\n",
        "ani = animation.FuncAnimation(fig, animate, frames=len(b_history), interval=20, save_count=50)\n",
        "HTML(ani.to_jshtml())"
      ]
    },
    {
      "cell_type": "code",
      "source": [],
      "metadata": {
        "id": "hMWhXJmS-5n5"
      },
      "execution_count": null,
      "outputs": []
    }
  ],
  "metadata": {
    "kernelspec": {
      "display_name": "Python 3 (ipykernel)",
      "language": "python",
      "name": "python3"
    },
    "language_info": {
      "codemirror_mode": {
        "name": "ipython",
        "version": 3
      },
      "file_extension": ".py",
      "mimetype": "text/x-python",
      "name": "python",
      "nbconvert_exporter": "python",
      "pygments_lexer": "ipython3",
      "version": "3.9.5"
    },
    "colab": {
      "provenance": []
    }
  },
  "nbformat": 4,
  "nbformat_minor": 0
}